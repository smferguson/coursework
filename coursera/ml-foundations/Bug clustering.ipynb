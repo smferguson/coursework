{
 "cells": [
  {
   "cell_type": "markdown",
   "metadata": {},
   "source": [
    "`\n",
    "SELECT \n",
    "bugId,\n",
    "b.testerId,\n",
    "fwl.description AS fixWorthinessLevel,\n",
    "b.createDate,\n",
    "b.subject,\n",
    "REPLACE(actionPerformed,\"\\n\",\" \") as actionPerformed,\n",
    "REPLACE(expectedResult,\"\\n\",\" \") as expectedResult,\n",
    "REPLACE(result,\"\\n\",\" \") as result,\n",
    "REPLACE(errorMessage,\"\\n\",\" \") as errorMessage\n",
    "FROM utest30.Bug b\n",
    "JOIN TestCycle tc ON b.testCycleId = tc.testCycleId\n",
    "JOIN FixWorthinessLevelLocale fwl ON fwl.fixWorthinessLevelId = b.fixWorthinessLevelId\n",
    "WHERE tc.productId = 8311\n",
    "AND b.bugStatusId = 2\n",
    "AND b.createDate > '2017-01-01 00:00:00'\n",
    "`"
   ]
  },
  {
   "cell_type": "code",
   "execution_count": 128,
   "metadata": {},
   "outputs": [],
   "source": [
    "import re, graphlab\n",
    "graphlab.canvas.set_target('ipynb')"
   ]
  },
  {
   "cell_type": "code",
   "execution_count": 129,
   "metadata": {},
   "outputs": [
    {
     "data": {
      "text/html": [
       "<pre>Finished parsing file /home/bo/pyml/projects/thom pocs/bug clustering/gs_texts.csv</pre>"
      ]
     },
     "metadata": {},
     "output_type": "execute_result"
    },
    {
     "data": {
      "text/html": [
       "<pre>Parsing completed. Parsed 100 lines in 0.025451 secs.</pre>"
      ]
     },
     "metadata": {},
     "output_type": "execute_result"
    },
    {
     "name": "stdout",
     "output_type": "stream",
     "text": [
      "------------------------------------------------------\n",
      "Inferred types from first 100 line(s) of file as \n",
      "column_type_hints=[int,int,str,str,str,str,str,str,str]\n",
      "If parsing fails due to incorrect types, you can correct\n",
      "the inferred type list above and pass it to read_csv in\n",
      "the column_type_hints argument\n",
      "------------------------------------------------------\n"
     ]
    },
    {
     "data": {
      "text/html": [
       "<pre>Read 842 lines. Lines per second: 24305.1</pre>"
      ]
     },
     "metadata": {},
     "output_type": "execute_result"
    },
    {
     "data": {
      "text/html": [
       "<pre>Finished parsing file /home/bo/pyml/projects/thom pocs/bug clustering/gs_texts.csv</pre>"
      ]
     },
     "metadata": {},
     "output_type": "execute_result"
    },
    {
     "data": {
      "text/html": [
       "<pre>Parsing completed. Parsed 842 lines in 0.03479 secs.</pre>"
      ]
     },
     "metadata": {},
     "output_type": "execute_result"
    },
    {
     "data": {
      "text/html": [
       "<div style=\"max-height:1000px;max-width:1500px;overflow:auto;\"><table frame=\"box\" rules=\"cols\">\n",
       "    <tr>\n",
       "        <th style=\"padding-left: 1em; padding-right: 1em; text-align: center\">bugId</th>\n",
       "        <th style=\"padding-left: 1em; padding-right: 1em; text-align: center\">testerId</th>\n",
       "        <th style=\"padding-left: 1em; padding-right: 1em; text-align: center\">fixWorthinessLevel</th>\n",
       "        <th style=\"padding-left: 1em; padding-right: 1em; text-align: center\">createDate</th>\n",
       "        <th style=\"padding-left: 1em; padding-right: 1em; text-align: center\">subject</th>\n",
       "        <th style=\"padding-left: 1em; padding-right: 1em; text-align: center\">actionPerformed</th>\n",
       "    </tr>\n",
       "    <tr>\n",
       "        <td style=\"padding-left: 1em; padding-right: 1em; text-align: center; vertical-align: top\">2409447</td>\n",
       "        <td style=\"padding-left: 1em; padding-right: 1em; text-align: center; vertical-align: top\">144476</td>\n",
       "        <td style=\"padding-left: 1em; padding-right: 1em; text-align: center; vertical-align: top\">somewhat valuable</td>\n",
       "        <td style=\"padding-left: 1em; padding-right: 1em; text-align: center; vertical-align: top\">2017-01-04 01:56:32</td>\n",
       "        <td style=\"padding-left: 1em; padding-right: 1em; text-align: center; vertical-align: top\">[Fn]Zone picker is not fu<br>nctional[Zonepicker][ ...</td>\n",
       "        <td style=\"padding-left: 1em; padding-right: 1em; text-align: center; vertical-align: top\">1. Launch browosony url.<br>2. Enter zip code &amp; ...</td>\n",
       "    </tr>\n",
       "</table>\n",
       "<table frame=\"box\" rules=\"cols\">\n",
       "    <tr>\n",
       "        <th style=\"padding-left: 1em; padding-right: 1em; text-align: center\">expectedResult</th>\n",
       "        <th style=\"padding-left: 1em; padding-right: 1em; text-align: center\">result</th>\n",
       "        <th style=\"padding-left: 1em; padding-right: 1em; text-align: center\">errorMessage</th>\n",
       "    </tr>\n",
       "    <tr>\n",
       "        <td style=\"padding-left: 1em; padding-right: 1em; text-align: center; vertical-align: top\">It should redirect to<br>home page. ...</td>\n",
       "        <td style=\"padding-left: 1em; padding-right: 1em; text-align: center; vertical-align: top\">zone picker is not<br>functional ...</td>\n",
       "        <td style=\"padding-left: 1em; padding-right: 1em; text-align: center; vertical-align: top\">None</td>\n",
       "    </tr>\n",
       "</table>\n",
       "[1 rows x 9 columns]<br/>\n",
       "</div>"
      ]
     },
     "metadata": {},
     "output_type": "execute_result"
    }
   ],
   "source": [
    "reviews = graphlab.SFrame('gs_texts.csv')\n",
    "reviews['createDate'] = reviews['createDate'].str_to_datetime()\n",
    "reviews.head(n=1)"
   ]
  },
  {
   "cell_type": "code",
   "execution_count": 130,
   "metadata": {},
   "outputs": [],
   "source": [
    "reviews['text'] = reviews['subject'] + ' ' + reviews['result']"
   ]
  },
  {
   "cell_type": "code",
   "execution_count": 131,
   "metadata": {},
   "outputs": [],
   "source": [
    "def rm_char(text):\n",
    "    if text:\n",
    "        return re.sub(r'\\W+', ' ', text)\n",
    "    else:\n",
    "        return \"\""
   ]
  },
  {
   "cell_type": "code",
   "execution_count": 132,
   "metadata": {},
   "outputs": [],
   "source": [
    "reviews['cleaned'] = reviews.apply(\n",
    "    lambda x: rm_char(x['text'])\n",
    ")"
   ]
  },
  {
   "cell_type": "code",
   "execution_count": 133,
   "metadata": {},
   "outputs": [
    {
     "data": {
      "text/html": [
       "<div style=\"max-height:1000px;max-width:1500px;overflow:auto;\"><table frame=\"box\" rules=\"cols\">\n",
       "    <tr>\n",
       "        <th style=\"padding-left: 1em; padding-right: 1em; text-align: center\">bugId</th>\n",
       "        <th style=\"padding-left: 1em; padding-right: 1em; text-align: center\">testerId</th>\n",
       "        <th style=\"padding-left: 1em; padding-right: 1em; text-align: center\">fixWorthinessLevel</th>\n",
       "        <th style=\"padding-left: 1em; padding-right: 1em; text-align: center\">createDate</th>\n",
       "        <th style=\"padding-left: 1em; padding-right: 1em; text-align: center\">subject</th>\n",
       "        <th style=\"padding-left: 1em; padding-right: 1em; text-align: center\">actionPerformed</th>\n",
       "    </tr>\n",
       "    <tr>\n",
       "        <td style=\"padding-left: 1em; padding-right: 1em; text-align: center; vertical-align: top\">2409447</td>\n",
       "        <td style=\"padding-left: 1em; padding-right: 1em; text-align: center; vertical-align: top\">144476</td>\n",
       "        <td style=\"padding-left: 1em; padding-right: 1em; text-align: center; vertical-align: top\">somewhat valuable</td>\n",
       "        <td style=\"padding-left: 1em; padding-right: 1em; text-align: center; vertical-align: top\">2017-01-04 01:56:32</td>\n",
       "        <td style=\"padding-left: 1em; padding-right: 1em; text-align: center; vertical-align: top\">[Fn]Zone picker is not fu<br>nctional[Zonepicker][ ...</td>\n",
       "        <td style=\"padding-left: 1em; padding-right: 1em; text-align: center; vertical-align: top\">1. Launch browosony url.<br>2. Enter zip code &amp; ...</td>\n",
       "    </tr>\n",
       "</table>\n",
       "<table frame=\"box\" rules=\"cols\">\n",
       "    <tr>\n",
       "        <th style=\"padding-left: 1em; padding-right: 1em; text-align: center\">expectedResult</th>\n",
       "        <th style=\"padding-left: 1em; padding-right: 1em; text-align: center\">result</th>\n",
       "        <th style=\"padding-left: 1em; padding-right: 1em; text-align: center\">errorMessage</th>\n",
       "        <th style=\"padding-left: 1em; padding-right: 1em; text-align: center\">text</th>\n",
       "        <th style=\"padding-left: 1em; padding-right: 1em; text-align: center\">cleaned</th>\n",
       "    </tr>\n",
       "    <tr>\n",
       "        <td style=\"padding-left: 1em; padding-right: 1em; text-align: center; vertical-align: top\">It should redirect to<br>home page. ...</td>\n",
       "        <td style=\"padding-left: 1em; padding-right: 1em; text-align: center; vertical-align: top\">zone picker is not<br>functional ...</td>\n",
       "        <td style=\"padding-left: 1em; padding-right: 1em; text-align: center; vertical-align: top\">None</td>\n",
       "        <td style=\"padding-left: 1em; padding-right: 1em; text-align: center; vertical-align: top\">[Fn]Zone picker is not fu<br>nctional[Zonepicker][ ...</td>\n",
       "        <td style=\"padding-left: 1em; padding-right: 1em; text-align: center; vertical-align: top\"> Fn Zone picker is not<br>functional Zonepicker ...</td>\n",
       "    </tr>\n",
       "</table>\n",
       "[1 rows x 11 columns]<br/>\n",
       "</div>"
      ]
     },
     "metadata": {},
     "output_type": "execute_result"
    }
   ],
   "source": [
    "reviews.head(n=1)"
   ]
  },
  {
   "cell_type": "markdown",
   "metadata": {},
   "source": [
    "# Explore topics"
   ]
  },
  {
   "cell_type": "code",
   "execution_count": 134,
   "metadata": {},
   "outputs": [],
   "source": [
    "reviews['bow'] = graphlab.text_analytics.count_words(reviews['cleaned'])"
   ]
  },
  {
   "cell_type": "code",
   "execution_count": 135,
   "metadata": {},
   "outputs": [],
   "source": [
    "reviews['bow'] = reviews['bow'].dict_trim_by_keys(graphlab.text_analytics.stopwords() | set([]), exclude=True)"
   ]
  },
  {
   "cell_type": "code",
   "execution_count": 136,
   "metadata": {},
   "outputs": [
    {
     "data": {
      "text/html": [
       "<pre>Learning a topic model</pre>"
      ]
     },
     "metadata": {},
     "output_type": "execute_result"
    },
    {
     "data": {
      "text/html": [
       "<pre>       Number of documents       842</pre>"
      ]
     },
     "metadata": {},
     "output_type": "execute_result"
    },
    {
     "data": {
      "text/html": [
       "<pre>           Vocabulary size      1597</pre>"
      ]
     },
     "metadata": {},
     "output_type": "execute_result"
    },
    {
     "data": {
      "text/html": [
       "<pre>   Running collapsed Gibbs sampling</pre>"
      ]
     },
     "metadata": {},
     "output_type": "execute_result"
    },
    {
     "data": {
      "text/html": [
       "<pre>+-----------+---------------+----------------+-----------------+</pre>"
      ]
     },
     "metadata": {},
     "output_type": "execute_result"
    },
    {
     "data": {
      "text/html": [
       "<pre>| Iteration | Elapsed Time  | Tokens/Second  | Est. Perplexity |</pre>"
      ]
     },
     "metadata": {},
     "output_type": "execute_result"
    },
    {
     "data": {
      "text/html": [
       "<pre>+-----------+---------------+----------------+-----------------+</pre>"
      ]
     },
     "metadata": {},
     "output_type": "execute_result"
    },
    {
     "data": {
      "text/html": [
       "<pre>| 100       | 415.143ms     | 2.40528e+06    | 0               |</pre>"
      ]
     },
     "metadata": {},
     "output_type": "execute_result"
    },
    {
     "data": {
      "text/html": [
       "<pre>| 200       | 857.187ms     | 1.12947e+06    | 0               |</pre>"
      ]
     },
     "metadata": {},
     "output_type": "execute_result"
    },
    {
     "data": {
      "text/html": [
       "<pre>| 300       | 1.30s         | 2.64262e+06    | 0               |</pre>"
      ]
     },
     "metadata": {},
     "output_type": "execute_result"
    },
    {
     "data": {
      "text/html": [
       "<pre>+-----------+---------------+----------------+-----------------+</pre>"
      ]
     },
     "metadata": {},
     "output_type": "execute_result"
    }
   ],
   "source": [
    "topic_model = graphlab.topic_model.create(reviews['bow'], num_topics=10, num_iterations=300, verbose=False, print_interval=100)"
   ]
  },
  {
   "cell_type": "code",
   "execution_count": 137,
   "metadata": {},
   "outputs": [
    {
     "name": "stdout",
     "output_type": "stream",
     "text": [
      "0 ['list', 'shopping', 'item', 'cart', 'added']\n",
      "1 ['store', 'showing', 'products', 'category', '1']\n",
      "2 ['displayed', 'error', 'message', 'android', 'items']\n",
      "3 ['app', 'address', 'android', 'crashes', 'mode']\n",
      "4 ['fn', 'checkout', 'unable', 'items', 'account']\n",
      "5 ['page', 'fn', 'button', 'web', 'home']\n",
      "6 ['page', 'fn', 'order', 'orders', 'button']\n",
      "7 ['fn', 'membership', 'web', 'user', 'card']\n",
      "8 ['mac', 'promo', 'option', 'clicking', 'displaying']\n",
      "9 ['product', 'image', 'missing', 'pdp', 'web']\n"
     ]
    }
   ],
   "source": [
    "i = 0\n",
    "topics = topic_model.get_topics(output_type='topic_words')\n",
    "for row in topics:\n",
    "    print i, row['words']\n",
    "    i += 1"
   ]
  },
  {
   "cell_type": "code",
   "execution_count": 138,
   "metadata": {},
   "outputs": [],
   "source": [
    "reviews['topic'] = topic_model.predict(reviews['bow'])"
   ]
  },
  {
   "cell_type": "markdown",
   "metadata": {},
   "source": [
    "# Top bugs of Google shopping express"
   ]
  },
  {
   "cell_type": "code",
   "execution_count": 139,
   "metadata": {},
   "outputs": [
    {
     "metadata": {},
     "text": []
    }
   ],
   "source": [
    "reviews['topic'].show(view='Categorical')"
   ]
  },
  {
   "cell_type": "markdown",
   "metadata": {},
   "source": [
    "# Drill down to the issue"
   ]
  },
  {
   "cell_type": "code",
   "execution_count": 140,
   "metadata": {},
   "outputs": [],
   "source": [
    "reviews['topic_probabilities'] = topic_model.predict(reviews['bow'], output_type='probability')"
   ]
  },
  {
   "cell_type": "code",
   "execution_count": 141,
   "metadata": {},
   "outputs": [],
   "source": [
    "reviews['topic_probability'] = reviews['topic_probabilities'].apply(lambda x: max(x))"
   ]
  },
  {
   "cell_type": "code",
   "execution_count": 142,
   "metadata": {},
   "outputs": [
    {
     "name": "stdout",
     "output_type": "stream",
     "text": [
      "Topic(0 | 0.323943661972 | very valuable |142608 |2017-04-12 03:20:45): ['list', 'shopping', 'item', 'cart', 'added']\n",
      "[Fn] Unable to edit item in shopping list. Edit button does not work [Shopping list][iPad/Safari]\n",
      "Unable to edit item in shopping list. Edit button does not work\n",
      "\n",
      "Topic(0 | 0.319444444444 | somewhat valuable |144476 |2017-04-19 02:04:54): ['list', 'shopping', 'item', 'cart', 'added']\n",
      "[Fn]Item added to shopping list pop up is not displayed when item is added[Shopping list][Web]\n",
      "Item added to shopping list pop up is not displayed when item is added to shopping list\n",
      "\n",
      "Topic(0 | 0.279411764706 | somewhat valuable |142608 |2017-02-17 02:51:49): ['list', 'shopping', 'item', 'cart', 'added']\n",
      "[Fn] \"Share list\" appears and disappears in Shopping list menu [Shopping list][Android]\n",
      "\"Share list\" appears and disappears in Shopping list menu\n",
      "\n",
      "Topic(0 | 0.257575757576 | somewhat valuable |154880 |2017-02-24 05:40:13): ['list', 'shopping', 'item', 'cart', 'added']\n",
      "[Fn] The same Item can be added from Cart to Shopping List many times[Shopping List][iOS]\n",
      "The same Item can be added from Cart to Shopping List many times\n",
      "\n",
      "Topic(0 | 0.257575757576 | somewhat valuable |142608 |2017-03-21 02:26:30): ['list', 'shopping', 'item', 'cart', 'added']\n",
      "[Fn] \"More\" button does not work after updating the item name in shopping list [Cart][Android]\n",
      "\"More\" button does not work after updating the item name in shopping list in the cart\n",
      "\n",
      "Topic(1 | 0.328125 | somewhat valuable |156925 |2017-04-19 04:03:15): ['store', 'showing', 'products', 'category', '1']\n",
      "[Fn][BaseballToys category filter returns No Results in JustBats.com][Filter][Web]\n",
      "No results displayed  Note:Search for baseball toys shows products  Category Filter URL: https://gsx-frontend-staging.sandbox.google.com/express/u/1/search?q=balls&m=27573&cat=B.517331&ei=OuL2WKCZAoGz2gLk17WQAg&ved=0EOoqCAYoAg  Search URL : https://gsx-frontend-staging.sandbox.google.com/express/u/1/search?m=27573&q=baseball%20toys&oq=baseball%20toys&g_sl=localmall.3...157619.165813.3.165972.17.1.16.0.0.1.275.275.2-1.1.0...0.0...1ac.1.xhelK2tpgJU\n",
      "\n",
      "Topic(1 | 0.304347826087 | somewhat valuable |169077 |2017-01-10 03:36:29): ['store', 'showing', 'products', 'category', '1']\n",
      "[Fn]In search suggestions Plow & Hearth store is not showing[store][Android]\n",
      "1.Not able to see Plow & Hearth store in search suggestions while entering Plow & Hearth in search.\n",
      "\n",
      "Topic(1 | 0.253012048193 | somewhat valuable |156925 |2017-05-04 02:26:31): ['store', 'showing', 'products', 'category', '1']\n",
      "[Fn][Search for an item not available in a store returns results from all otherstores][PDP][Android]\n",
      "Results from all other stores displayed instead of No Results  Note:When search for the product is made in merchant landing page, No results displayed But when the same search is made from PDP, results for all stores displayed instead of No Results.  Have shown both of the above cases in my attached recording.\n",
      "\n",
      "Topic(1 | 0.246376811594 | somewhat valuable |173254 |2017-03-09 04:02:20): ['store', 'showing', 'products', 'category', '1']\n",
      "[FN][Mis categorised \"Adapter\" displayed when searching for \"Blood preassure monitors\" in search bar\n",
      "\"Medela® 12-Volt Vehicle Lighter Adapter\" products were displayed\n",
      "\n",
      "Topic(1 | 0.243902439024 | somewhat valuable |297150 |2017-06-08 03:51:46): ['store', 'showing', 'products', 'category', '1']\n",
      "[GUI][Most of the product images are missing in the category of Eye glasses][IOS]\n",
      "No image is displaying for products , 1.Wink by ICU Eyewear Oval Zebra Stripe, 2. Wink Reader Floral+2.00, 3. Wink Fashion Reading Glass,2.50, 4. Wink Metal Reading Glass,2.00, 5. Wink Metal Reading Glass,1.25, 6. Wink Fashion Reading Glass,1.75, 7. Wink Fashion Reading Glass,3.00,          8. DDE Reader Slvr Aviator +2.50, 9. DDE Reader Slvr Aviator +3.00\n",
      "\n",
      "Topic(2 | 0.293333333333 | somewhat valuable |156925 |2017-03-10 03:42:49): ['displayed', 'error', 'message', 'android', 'items']\n",
      "[Tn][Error displayed when More clicked against Stores for the first time][HP][Android]\n",
      "Debug Warning: Visual Element technical error displayed  Note:It only happens when More is clicked for the first time after app launch. happens every time app killed & More clicked for the first time\n",
      "\n",
      "Topic(2 | 0.267605633803 | somewhat valuable |188183 |2017-03-10 05:20:57): ['displayed', 'error', 'message', 'android', 'items']\n",
      "[Technical][Error is seen when clicked on more for shopping list in cart][Cart][Android]\n",
      "Debug error message is seen when clicked more for shopping list in cart Note : error is seen every time app killed and opened\n",
      "\n",
      "Topic(2 | 0.253521126761 | somewhat valuable |250867 |2017-05-23 01:17:28): ['displayed', 'error', 'message', 'android', 'items']\n",
      "[FUN][ Debug warning error message is displayed after applying invalid promocode[Android\n",
      "Debug warning error message is displayed instead on \"invalid membership promo code\" applied message\n",
      "\n",
      "Topic(2 | 0.238805970149 | somewhat valuable |52901 |2017-05-23 01:42:10): ['displayed', 'error', 'message', 'android', 'items']\n",
      "[Fn] Item not added to cart though message was displayed as 'Added to cart'[Cart][iOS]\n",
      "Item not added to cart though message was displayed as 'Added to cart'\n",
      "\n",
      "Topic(2 | 0.232876712329 | somewhat valuable |250867 |2017-04-28 01:21:56): ['displayed', 'error', 'message', 'android', 'items']\n",
      "[FUN][After applying Invalid membership promo code Debug warning error message is displayed][Android\n",
      "Debug warning error message is displayed instead on \"invalid membership promo code\"  applied message\n",
      "\n",
      "Topic(3 | 0.333333333333 | very valuable |132466 |2017-05-31 01:43:47): ['app', 'address', 'android', 'crashes', 'mode']\n",
      "[Tn][App crashes after selecting/editing any address for new users][Address Book][Android]\n",
      "App crashes if we click on box to select address in address Book  or crashes if saving address  after editing\n",
      "\n",
      "Topic(3 | 0.253968253968 | very valuable |142608 |2017-05-03 00:05:54): ['app', 'address', 'android', 'crashes', 'mode']\n",
      "[Fn] The app crashes while adding delivery address [Checkout][Android]\n",
      "The app crashes while adding delivery address\n",
      "\n",
      "Topic(3 | 0.25 | very valuable |132466 |2017-05-31 01:42:52): ['app', 'address', 'android', 'crashes', 'mode']\n",
      "[Fn][Address book is showing as empty after adding address to it][Address Book][Android]\n",
      "It shows as \"your address book is empty\"  After clickibg again on  address Book it shows\n",
      "\n",
      "Topic(3 | 0.246153846154 | very valuable |241966 |2017-02-10 02:39:21): ['app', 'address', 'android', 'crashes', 'mode']\n",
      "[Fn][App crashed when Adding new address in address book][Address book page][Android]\n",
      "App getting  crashed for adding new address\n",
      "\n",
      "Topic(3 | 0.242424242424 | very valuable |241966 |2017-06-08 01:25:02): ['app', 'address', 'android', 'crashes', 'mode']\n",
      "[Fn][App crashed when removing address from address book][Settings page][Android]\n",
      "App crashed when removing address from address book\n",
      "\n",
      "Topic(4 | 0.292307692308 | somewhat valuable |142608 |2017-03-10 03:20:28): ['fn', 'checkout', 'unable', 'items', 'account']\n",
      "[Fn] Unable to enter the text in gate code field [Checkout][Android]\n",
      "Unable to enter the text in gate code field\n",
      "\n",
      "Topic(4 | 0.260869565217 | somewhat valuable |144476 |2017-05-23 01:52:52): ['fn', 'checkout', 'unable', 'items', 'account']\n",
      "[Fn]Items Info & Estimated tax info are same.The info is not related to Items[Check out][Android]\n",
      "Items Info & Estimated tax info are same.The info is not related to Items\n",
      "\n",
      "Topic(4 | 0.253968253968 | somewhat valuable |154880 |2017-03-10 05:34:38): ['fn', 'checkout', 'unable', 'items', 'account']\n",
      "[GUI] No placeholder text in the Gate code field [Checkout][iOS]\n",
      "No placeholder text in the Gate code field\n",
      "\n",
      "Topic(4 | 0.234375 | somewhat valuable |120203 |2017-03-01 05:26:32): ['fn', 'checkout', 'unable', 'items', 'account']\n",
      "[FN][Courtesy Refund][Unable to work Courtesy Refund button][94040]\n",
      "Unable to work Courtesy Refund button\n",
      "\n",
      "Topic(4 | 0.234375 | very valuable |156925 |2017-05-03 01:36:30): ['fn', 'checkout', 'unable', 'items', 'account']\n",
      "[Fn][Unable to add text in Gate Code field for new address][AddressBook][iOS]\n",
      "Unable to enter text in that field\n",
      "\n",
      "Topic(5 | 0.243243243243 | somewhat valuable |142608 |2017-04-12 01:52:15): ['page', 'fn', 'button', 'web', 'home']\n",
      "[Fn]\"Clear cart\"button is not shown while tapping on Decline in \"Terms of service\"window[Cart][Andr]\n",
      "\"Clear cart\" button is not shown in the cart page while tapping on Decline button in the \"Terms of service\" window\n",
      "\n",
      "Topic(5 | 0.223880597015 | somewhat valuable |142608 |2017-01-27 04:36:45): ['page', 'fn', 'button', 'web', 'home']\n",
      "[Fn] \"Add membership\" button does not work at the Costco home page [Costco][iOS]\n",
      "\"Add membership\" button does not work at the Costco home page\n",
      "\n",
      "Topic(5 | 0.208333333333 | somewhat valuable |142608 |2017-02-17 02:27:40): ['page', 'fn', 'button', 'web', 'home']\n",
      "[Fn] Dropdown window moves to left when tapping on Edit button in Shopping list[Shopping list][Andr]\n",
      "Dropdown window moves to left when tapping on Edit button in Shopping list\n",
      "\n",
      "Topic(5 | 0.206349206349 | somewhat valuable |241966 |2017-01-10 04:20:22): ['page', 'fn', 'button', 'web', 'home']\n",
      "[Functional][Original price not shown in home page][Home page][IOS]\n",
      "Original price not able to seen on home page\n",
      "\n",
      "Topic(5 | 0.194805194805 | somewhat valuable |156925 |2017-05-24 01:17:32): ['page', 'fn', 'button', 'web', 'home']\n",
      "[Fn][New price is missing & old price isn't shown in colored label when zone changed][Cart][iOS]\n",
      "New price not displayed under Item Old price displayed but not in orange label  Note: The label appears after user navigates back to cart from any other screen\n",
      "\n",
      "Topic(6 | 0.306666666667 | somewhat valuable |116370 |2017-02-24 01:32:30): ['page', 'fn', 'order', 'orders', 'button']\n",
      "[Fn][Cancel button is active on home page after cancel order ][Home][iOS]\n",
      "Cancel button is active on home page after cancel order . User can tap cancel button once again. Info about order still available after cancel order\n",
      "\n",
      "Topic(6 | 0.297297297297 | somewhat valuable |169077 |2017-01-31 05:57:30): ['page', 'fn', 'order', 'orders', 'button']\n",
      "[Fn]Cancel button disappearing from orders page after few minutes of placing order[Orders][Android]\n",
      "1.Cancel button is disappearing after 4 to 5 mins of placing order from HearthSong store order page.\n",
      "\n",
      "Topic(6 | 0.239436619718 | somewhat valuable |241956 |2017-04-20 01:44:56): ['page', 'fn', 'order', 'orders', 'button']\n",
      "[FN]First order in orders page is overlapped with orders grid[tab] at the top[orders][android]\n",
      "the order id is overlapped with orders main tab or grid for the top order in the page\n",
      "\n",
      "Topic(6 | 0.236842105263 | somewhat valuable |219204 |2017-03-30 22:31:33): ['page', 'fn', 'order', 'orders', 'button']\n",
      "[Fn][Live][clicking on Good to grow promo banner leads to times up error message][Promo Banner][web]\n",
      "Good to Grow promo banner leads to times up error message - \"Time's up  Sorry, it looks like you just missed our promotion\"  message seen\n",
      "\n",
      "Topic(6 | 0.230769230769 | somewhat valuable |142608 |2017-02-01 07:21:07): ['page', 'fn', 'order', 'orders', 'button']\n",
      "[Fn] \"Cancel order\" button is displayed for the canceled order [Orders][iOS]\n",
      "\"Cancel order\" button is displayed for the canceled order\n",
      "\n",
      "Topic(7 | 0.256756756757 | somewhat valuable |156925 |2017-02-02 03:35:29): ['fn', 'membership', 'web', 'user', 'card']\n",
      "[Fn][Payment not updated if Got It button skipped & then request failed error][Membership][Android]\n",
      "Payment method does not get updated When user tries to change method again gets Request Failed error  Note:Payment gets updated in iOS even if Got It not clicked\n",
      "\n",
      "Topic(7 | 0.25641025641 | very valuable |169077 |2017-03-24 03:16:13): ['fn', 'membership', 'web', 'user', 'card']\n",
      "[Fn]Multiple payments accounts are linked,editing will apply to all cards showing[membership]Android\n",
      "1.Showing multiple accounts are linked to this payments profile. Editing this payment method will apply to all linked payments accounts& not able to delete any payment method\n",
      "\n",
      "Topic(7 | 0.238805970149 | somewhat valuable |188183 |2017-04-19 01:51:03): ['fn', 'membership', 'web', 'user', 'card']\n",
      "[Fn][Payment method doesn't get updated in membership after changing it][Membership][IOS]\n",
      "After submitting for new pay option page got refreshed but new payment method not updated\n",
      "\n",
      "Topic(7 | 0.235294117647 | somewhat valuable |142608 |2017-01-12 03:28:18): ['fn', 'membership', 'web', 'user', 'card']\n",
      "[Fn] Unable to end membership \"Your membership expired\" shows [Membership][Mac]\n",
      "Unable to end membership \"Your membership expired\" shows. Only for gsxtt112@gmail.com account\n",
      "\n",
      "Topic(7 | 0.225806451613 | somewhat valuable |126922 |2017-03-17 01:22:07): ['fn', 'membership', 'web', 'user', 'card']\n",
      "[FN][Expired card is also accepting for costco membership][Loyalty programs][android]\n",
      "Expired card is accepting\n",
      "\n",
      "Topic(8 | 0.275862068966 | somewhat valuable |217126 |2017-02-10 00:00:15): ['mac', 'promo', 'option', 'clicking', 'displaying']\n",
      "[FN]Unable to change zone after selecting the promo banner categories[Promo banner][Web]\n",
      "Unable to change zones & infinite page loading is seen after clicking on the Promo banner categories. The user has to refresh the browser page to see the changed zone  Note: Works fine if the user doesn't click & select the given promo banner categories\n",
      "\n",
      "Topic(8 | 0.253521126761 | somewhat valuable |143314 |2017-02-14 02:31:07): ['mac', 'promo', 'option', 'clicking', 'displaying']\n",
      "[fun][500. That’s an error message is seen while clicking on Shop Beauty &Grooming promo banner[WEB]\n",
      "500. That’s an error message is seen while clicking on Shop Beauty &Grooming promo banner[WEB]\n",
      "\n",
      "Topic(8 | 0.242857142857 | somewhat valuable |142608 |2017-02-16 03:54:21): ['mac', 'promo', 'option', 'clicking', 'displaying']\n",
      "[Fn] Unable to remove categories(Kosher, Organic,Pre-washed)from left nav panel [SRP][Mac/Chrome]\n",
      "Unable to remove some categories from left nav panel\n",
      "\n",
      "Topic(8 | 0.239130434783 | somewhat valuable |215705 |2017-01-04 02:54:10): ['mac', 'promo', 'option', 'clicking', 'displaying']\n",
      "[Fn][Percentage Amounts vary and broken link for Costco non members access fee][Store][Web]\n",
      "Access fee not matching with the header and link Header is showing 10% and the link is showing 15% After clicking on to 15% access fee link able to redirect page to https://support.google.com/express/answer/7038306?hl=en but showing error Sorry, this page can't be found.\n",
      "\n",
      "Topic(8 | 0.231884057971 | somewhat valuable |142371 |2017-03-24 05:15:12): ['mac', 'promo', 'option', 'clicking', 'displaying']\n",
      "[GUI]Banner not displayed in Chrome browser\n",
      "Case-1:  # Launch IE-11 browser, User can see banner available  Case-2: # Launch Chrome browser, User can' t see banner available.\n",
      "\n",
      "Topic(9 | 0.325 | somewhat valuable |126822 |2017-04-05 04:11:37): ['product', 'image', 'missing', 'pdp', 'web']\n",
      "[GUI][Product image is missing in PDP >>Orchard Supply Hardware][Web/Chrome]\n",
      "Product image is missing in PDP for the Product ,Speedi-Products AC-DT 36 36-Inch Length Flexible Ducting Cable Tie Straps (25-Pack)\n",
      "\n",
      "Topic(9 | 0.3 | somewhat valuable |297145 |2017-05-10 03:17:04): ['product', 'image', 'missing', 'pdp', 'web']\n",
      "[GUI][Product image is missing in the category Garden Hoses][ Orchard Supply Hardware ][WEB/Chrome]\n",
      "Product image is missing in PDP for the product Apex 5/8 Inch 75 Foot Neverkink Extra Heavy Duty Hose 8645-75\n",
      "\n",
      "Topic(9 | 0.274193548387 | somewhat valuable |122245 |2017-02-17 05:50:54): ['product', 'image', 'missing', 'pdp', 'web']\n",
      "[GUI][Product image is missing in PDP >>Cole Hardware][Web]\n",
      "Product image is missing in PDP\n",
      "\n",
      "Topic(9 | 0.272727272727 | somewhat valuable |122245 |2017-04-20 01:33:09): ['product', 'image', 'missing', 'pdp', 'web']\n",
      "[Fn][Product image is missing in Adorama camera store ][WEB/Chrome]\n",
      "Product image is missing in PDP for the Product , Nikon D750 FX-format Digital SLR Body Only Camera - Bundle with Camera Bag, 32GB Class 10 Sdhc Card, Nikon MB-D16 Multi Power Battery Pack, Spare\n",
      "\n",
      "Topic(9 | 0.271428571429 | somewhat valuable |126822 |2017-04-25 02:41:44): ['product', 'image', 'missing', 'pdp', 'web']\n",
      "[GUI][Product name does not match with the image][PDP][Web/chrome]\n",
      "Product name doesn't match with the image (Belkin Patch cable - CAT 5e - UTP 98 ft - Blue)\n",
      "\n"
     ]
    }
   ],
   "source": [
    "# for each topic, print 3 top reviews\n",
    "topic_count = {i: 0 for i in range(len(topics))}\n",
    "top_reviews = []\n",
    "for r in reviews.sort('topic_probability', ascending=False)[:1000]:\n",
    "    tp = r['topic']\n",
    "    if topic_count[tp] < 5:\n",
    "        top_reviews.append((r['topic'], r))\n",
    "        topic_count[tp] += 1\n",
    "        \n",
    "top_reviews = sorted(top_reviews, key=lambda x:int(x[0]))\n",
    "for tp, r in top_reviews:\n",
    "    print 'Topic(%s | %s | %s |%s |%s): %s' % (tp, r['topic_probability'], r['fixWorthinessLevel'], r['testerId'], r['createDate'], topics[tp]['words'])\n",
    "    print r['subject']\n",
    "    print r['result']\n",
    "    print"
   ]
  },
  {
   "cell_type": "markdown",
   "metadata": {},
   "source": [
    "# What is the current top issues? (2017.6)"
   ]
  },
  {
   "cell_type": "code",
   "execution_count": 143,
   "metadata": {},
   "outputs": [
    {
     "data": {
      "text/html": [
       "<div style=\"max-height:1000px;max-width:1500px;overflow:auto;\"><table frame=\"box\" rules=\"cols\">\n",
       "    <tr>\n",
       "        <th style=\"padding-left: 1em; padding-right: 1em; text-align: center\">bugId</th>\n",
       "        <th style=\"padding-left: 1em; padding-right: 1em; text-align: center\">testerId</th>\n",
       "        <th style=\"padding-left: 1em; padding-right: 1em; text-align: center\">fixWorthinessLevel</th>\n",
       "        <th style=\"padding-left: 1em; padding-right: 1em; text-align: center\">createDate</th>\n",
       "        <th style=\"padding-left: 1em; padding-right: 1em; text-align: center\">subject</th>\n",
       "    </tr>\n",
       "    <tr>\n",
       "        <td style=\"padding-left: 1em; padding-right: 1em; text-align: center; vertical-align: top\">2665572</td>\n",
       "        <td style=\"padding-left: 1em; padding-right: 1em; text-align: center; vertical-align: top\">297110</td>\n",
       "        <td style=\"padding-left: 1em; padding-right: 1em; text-align: center; vertical-align: top\">somewhat valuable</td>\n",
       "        <td style=\"padding-left: 1em; padding-right: 1em; text-align: center; vertical-align: top\">2017-06-01 01:04:54</td>\n",
       "        <td style=\"padding-left: 1em; padding-right: 1em; text-align: center; vertical-align: top\">[fn][Complete shopping<br>list name is not ...</td>\n",
       "    </tr>\n",
       "    <tr>\n",
       "        <td style=\"padding-left: 1em; padding-right: 1em; text-align: center; vertical-align: top\">2665618</td>\n",
       "        <td style=\"padding-left: 1em; padding-right: 1em; text-align: center; vertical-align: top\">241963</td>\n",
       "        <td style=\"padding-left: 1em; padding-right: 1em; text-align: center; vertical-align: top\">somewhat valuable</td>\n",
       "        <td style=\"padding-left: 1em; padding-right: 1em; text-align: center; vertical-align: top\">2017-06-01 02:00:39</td>\n",
       "        <td style=\"padding-left: 1em; padding-right: 1em; text-align: center; vertical-align: top\">[Fn] Auto suggestions are<br>not Showing While typing ...</td>\n",
       "    </tr>\n",
       "    <tr>\n",
       "        <td style=\"padding-left: 1em; padding-right: 1em; text-align: center; vertical-align: top\">2665619</td>\n",
       "        <td style=\"padding-left: 1em; padding-right: 1em; text-align: center; vertical-align: top\">241956</td>\n",
       "        <td style=\"padding-left: 1em; padding-right: 1em; text-align: center; vertical-align: top\">somewhat valuable</td>\n",
       "        <td style=\"padding-left: 1em; padding-right: 1em; text-align: center; vertical-align: top\">2017-06-01 02:02:32</td>\n",
       "        <td style=\"padding-left: 1em; padding-right: 1em; text-align: center; vertical-align: top\">[Fn]Unable to display<br>address added for the ...</td>\n",
       "    </tr>\n",
       "    <tr>\n",
       "        <td style=\"padding-left: 1em; padding-right: 1em; text-align: center; vertical-align: top\">2667338</td>\n",
       "        <td style=\"padding-left: 1em; padding-right: 1em; text-align: center; vertical-align: top\">241956</td>\n",
       "        <td style=\"padding-left: 1em; padding-right: 1em; text-align: center; vertical-align: top\">very valuable</td>\n",
       "        <td style=\"padding-left: 1em; padding-right: 1em; text-align: center; vertical-align: top\">2017-06-02 01:34:32</td>\n",
       "        <td style=\"padding-left: 1em; padding-right: 1em; text-align: center; vertical-align: top\">[Fn]App is crashed after<br>selecting undo for the ...</td>\n",
       "    </tr>\n",
       "    <tr>\n",
       "        <td style=\"padding-left: 1em; padding-right: 1em; text-align: center; vertical-align: top\">2667343</td>\n",
       "        <td style=\"padding-left: 1em; padding-right: 1em; text-align: center; vertical-align: top\">192264</td>\n",
       "        <td style=\"padding-left: 1em; padding-right: 1em; text-align: center; vertical-align: top\">somewhat valuable</td>\n",
       "        <td style=\"padding-left: 1em; padding-right: 1em; text-align: center; vertical-align: top\">2017-06-02 01:37:29</td>\n",
       "        <td style=\"padding-left: 1em; padding-right: 1em; text-align: center; vertical-align: top\">[Fn][Error at Shopping in<br>zip-code  and not ...</td>\n",
       "    </tr>\n",
       "    <tr>\n",
       "        <td style=\"padding-left: 1em; padding-right: 1em; text-align: center; vertical-align: top\">2667381</td>\n",
       "        <td style=\"padding-left: 1em; padding-right: 1em; text-align: center; vertical-align: top\">192264</td>\n",
       "        <td style=\"padding-left: 1em; padding-right: 1em; text-align: center; vertical-align: top\">somewhat valuable</td>\n",
       "        <td style=\"padding-left: 1em; padding-right: 1em; text-align: center; vertical-align: top\">2017-06-02 02:40:11</td>\n",
       "        <td style=\"padding-left: 1em; padding-right: 1em; text-align: center; vertical-align: top\">[Fn] App able to take<br>invalid zipcode [Zone ...</td>\n",
       "    </tr>\n",
       "    <tr>\n",
       "        <td style=\"padding-left: 1em; padding-right: 1em; text-align: center; vertical-align: top\">2673452</td>\n",
       "        <td style=\"padding-left: 1em; padding-right: 1em; text-align: center; vertical-align: top\">242313</td>\n",
       "        <td style=\"padding-left: 1em; padding-right: 1em; text-align: center; vertical-align: top\">somewhat valuable</td>\n",
       "        <td style=\"padding-left: 1em; padding-right: 1em; text-align: center; vertical-align: top\">2017-06-06 01:02:55</td>\n",
       "        <td style=\"padding-left: 1em; padding-right: 1em; text-align: center; vertical-align: top\">FUN]Debug warning message<br>is diplayed while adding ...</td>\n",
       "    </tr>\n",
       "    <tr>\n",
       "        <td style=\"padding-left: 1em; padding-right: 1em; text-align: center; vertical-align: top\">2673460</td>\n",
       "        <td style=\"padding-left: 1em; padding-right: 1em; text-align: center; vertical-align: top\">156925</td>\n",
       "        <td style=\"padding-left: 1em; padding-right: 1em; text-align: center; vertical-align: top\">somewhat valuable</td>\n",
       "        <td style=\"padding-left: 1em; padding-right: 1em; text-align: center; vertical-align: top\">2017-06-06 01:18:03</td>\n",
       "        <td style=\"padding-left: 1em; padding-right: 1em; text-align: center; vertical-align: top\">[Tn][AssertnotNull error<br>when tapped on Join Now ...</td>\n",
       "    </tr>\n",
       "    <tr>\n",
       "        <td style=\"padding-left: 1em; padding-right: 1em; text-align: center; vertical-align: top\">2673496</td>\n",
       "        <td style=\"padding-left: 1em; padding-right: 1em; text-align: center; vertical-align: top\">173248</td>\n",
       "        <td style=\"padding-left: 1em; padding-right: 1em; text-align: center; vertical-align: top\">very valuable</td>\n",
       "        <td style=\"padding-left: 1em; padding-right: 1em; text-align: center; vertical-align: top\">2017-06-06 01:44:08</td>\n",
       "        <td style=\"padding-left: 1em; padding-right: 1em; text-align: center; vertical-align: top\">[Fn] Cart &amp; Checkout pop<br>up is not seen, unless ...</td>\n",
       "    </tr>\n",
       "    <tr>\n",
       "        <td style=\"padding-left: 1em; padding-right: 1em; text-align: center; vertical-align: top\">2673511</td>\n",
       "        <td style=\"padding-left: 1em; padding-right: 1em; text-align: center; vertical-align: top\">156925</td>\n",
       "        <td style=\"padding-left: 1em; padding-right: 1em; text-align: center; vertical-align: top\">somewhat valuable</td>\n",
       "        <td style=\"padding-left: 1em; padding-right: 1em; text-align: center; vertical-align: top\">2017-06-06 01:56:29</td>\n",
       "        <td style=\"padding-left: 1em; padding-right: 1em; text-align: center; vertical-align: top\">[Fn][3dot menu missing<br>for a list that is ...</td>\n",
       "    </tr>\n",
       "</table>\n",
       "<table frame=\"box\" rules=\"cols\">\n",
       "    <tr>\n",
       "        <th style=\"padding-left: 1em; padding-right: 1em; text-align: center\">actionPerformed</th>\n",
       "        <th style=\"padding-left: 1em; padding-right: 1em; text-align: center\">expectedResult</th>\n",
       "        <th style=\"padding-left: 1em; padding-right: 1em; text-align: center\">result</th>\n",
       "        <th style=\"padding-left: 1em; padding-right: 1em; text-align: center\">errorMessage</th>\n",
       "    </tr>\n",
       "    <tr>\n",
       "        <td style=\"padding-left: 1em; padding-right: 1em; text-align: center; vertical-align: top\">1.Launch the GSX app<br>2.Login with valid mail ...</td>\n",
       "        <td style=\"padding-left: 1em; padding-right: 1em; text-align: center; vertical-align: top\">Shopping list full name<br>should be displayed ...</td>\n",
       "        <td style=\"padding-left: 1em; padding-right: 1em; text-align: center; vertical-align: top\">\"S...\" is displaying</td>\n",
       "        <td style=\"padding-left: 1em; padding-right: 1em; text-align: center; vertical-align: top\">None</td>\n",
       "    </tr>\n",
       "    <tr>\n",
       "        <td style=\"padding-left: 1em; padding-right: 1em; text-align: center; vertical-align: top\">1. Launch test URL 2.<br>Login with test account ...</td>\n",
       "        <td style=\"padding-left: 1em; padding-right: 1em; text-align: center; vertical-align: top\">should load auto<br>suggestion text ...</td>\n",
       "        <td style=\"padding-left: 1em; padding-right: 1em; text-align: center; vertical-align: top\">Auto suggestion text is<br>not loaded while typing ...</td>\n",
       "        <td style=\"padding-left: 1em; padding-right: 1em; text-align: center; vertical-align: top\">NULL</td>\n",
       "    </tr>\n",
       "    <tr>\n",
       "        <td style=\"padding-left: 1em; padding-right: 1em; text-align: center; vertical-align: top\">1.Install the app  2.Log<br>in with a new valid ...</td>\n",
       "        <td style=\"padding-left: 1em; padding-right: 1em; text-align: center; vertical-align: top\">address added should be<br>displayed immediately ...</td>\n",
       "        <td style=\"padding-left: 1em; padding-right: 1em; text-align: center; vertical-align: top\">blank page with add new<br>address option is ...</td>\n",
       "        <td style=\"padding-left: 1em; padding-right: 1em; text-align: center; vertical-align: top\">NULL</td>\n",
       "    </tr>\n",
       "    <tr>\n",
       "        <td style=\"padding-left: 1em; padding-right: 1em; text-align: center; vertical-align: top\">1.Install the app 2.Log<br>in with a valid account ...</td>\n",
       "        <td style=\"padding-left: 1em; padding-right: 1em; text-align: center; vertical-align: top\">The deleted list name<br>should be replaced ...</td>\n",
       "        <td style=\"padding-left: 1em; padding-right: 1em; text-align: center; vertical-align: top\">app is getting crashed</td>\n",
       "        <td style=\"padding-left: 1em; padding-right: 1em; text-align: center; vertical-align: top\">NULL</td>\n",
       "    </tr>\n",
       "    <tr>\n",
       "        <td style=\"padding-left: 1em; padding-right: 1em; text-align: center; vertical-align: top\">Steps :- Pre-Requisite 1)<br>Launch the Google Exp ...</td>\n",
       "        <td style=\"padding-left: 1em; padding-right: 1em; text-align: center; vertical-align: top\">App should give<br>validation error ...</td>\n",
       "        <td style=\"padding-left: 1em; padding-right: 1em; text-align: center; vertical-align: top\">Gives error like '<br>Something's not right. ...</td>\n",
       "        <td style=\"padding-left: 1em; padding-right: 1em; text-align: center; vertical-align: top\">' Something's not right.<br>Please try again in a ...</td>\n",
       "    </tr>\n",
       "    <tr>\n",
       "        <td style=\"padding-left: 1em; padding-right: 1em; text-align: center; vertical-align: top\">Steps :-  1) Launch the<br>Google Express App  2) ...</td>\n",
       "        <td style=\"padding-left: 1em; padding-right: 1em; text-align: center; vertical-align: top\">App should redirect to<br>not deliverable screen ...</td>\n",
       "        <td style=\"padding-left: 1em; padding-right: 1em; text-align: center; vertical-align: top\">App successfully able to<br>redirect to home page ...</td>\n",
       "        <td style=\"padding-left: 1em; padding-right: 1em; text-align: center; vertical-align: top\">N/A</td>\n",
       "    </tr>\n",
       "    <tr>\n",
       "        <td style=\"padding-left: 1em; padding-right: 1em; text-align: center; vertical-align: top\">1.Launch GSX in Android<br>2.Move to Los Angeles ...</td>\n",
       "        <td style=\"padding-left: 1em; padding-right: 1em; text-align: center; vertical-align: top\">Debug warning Error<br>message is displayed ...</td>\n",
       "        <td style=\"padding-left: 1em; padding-right: 1em; text-align: center; vertical-align: top\">Debug warning Error<br>message is displayed ...</td>\n",
       "        <td style=\"padding-left: 1em; padding-right: 1em; text-align: center; vertical-align: top\">NULL</td>\n",
       "    </tr>\n",
       "    <tr>\n",
       "        <td style=\"padding-left: 1em; padding-right: 1em; text-align: center; vertical-align: top\">Please enable the<br>following for Android: ...</td>\n",
       "        <td style=\"padding-left: 1em; padding-right: 1em; text-align: center; vertical-align: top\">Costco membership page<br>should be displayed ...</td>\n",
       "        <td style=\"padding-left: 1em; padding-right: 1em; text-align: center; vertical-align: top\">Debug warning:<br>assertnotNull error ...</td>\n",
       "        <td style=\"padding-left: 1em; padding-right: 1em; text-align: center; vertical-align: top\">NULL</td>\n",
       "    </tr>\n",
       "    <tr>\n",
       "        <td style=\"padding-left: 1em; padding-right: 1em; text-align: center; vertical-align: top\">1. Launch test URL 2. Set<br>zone as 95125 3. Go to ...</td>\n",
       "        <td style=\"padding-left: 1em; padding-right: 1em; text-align: center; vertical-align: top\">Cart &amp; Checkout pop up<br>should be seen ...</td>\n",
       "        <td style=\"padding-left: 1em; padding-right: 1em; text-align: center; vertical-align: top\">Cart &amp; Checkout pop up is<br>not seen unless user ...</td>\n",
       "        <td style=\"padding-left: 1em; padding-right: 1em; text-align: center; vertical-align: top\">NULL</td>\n",
       "    </tr>\n",
       "    <tr>\n",
       "        <td style=\"padding-left: 1em; padding-right: 1em; text-align: center; vertical-align: top\">Please enable the<br>following for Android: ...</td>\n",
       "        <td style=\"padding-left: 1em; padding-right: 1em; text-align: center; vertical-align: top\">Shopping list should be<br>added along with the 3 ...</td>\n",
       "        <td style=\"padding-left: 1em; padding-right: 1em; text-align: center; vertical-align: top\">3 dot menu missing for<br>the list ...</td>\n",
       "        <td style=\"padding-left: 1em; padding-right: 1em; text-align: center; vertical-align: top\">NULL</td>\n",
       "    </tr>\n",
       "</table>\n",
       "<table frame=\"box\" rules=\"cols\">\n",
       "    <tr>\n",
       "        <th style=\"padding-left: 1em; padding-right: 1em; text-align: center\">text</th>\n",
       "        <th style=\"padding-left: 1em; padding-right: 1em; text-align: center\">cleaned</th>\n",
       "        <th style=\"padding-left: 1em; padding-right: 1em; text-align: center\">bow</th>\n",
       "        <th style=\"padding-left: 1em; padding-right: 1em; text-align: center\">topic</th>\n",
       "    </tr>\n",
       "    <tr>\n",
       "        <td style=\"padding-left: 1em; padding-right: 1em; text-align: center; vertical-align: top\">[fn][Complete shopping<br>list name is not ...</td>\n",
       "        <td style=\"padding-left: 1em; padding-right: 1em; text-align: center; vertical-align: top\"> fn Complete shopping<br>list name is not ...</td>\n",
       "        <td style=\"padding-left: 1em; padding-right: 1em; text-align: center; vertical-align: top\">{'shopping': 2,<br>'complete': 1, 'list' ...</td>\n",
       "        <td style=\"padding-left: 1em; padding-right: 1em; text-align: center; vertical-align: top\">0</td>\n",
       "    </tr>\n",
       "    <tr>\n",
       "        <td style=\"padding-left: 1em; padding-right: 1em; text-align: center; vertical-align: top\">[Fn] Auto suggestions are<br>not Showing While typing ...</td>\n",
       "        <td style=\"padding-left: 1em; padding-right: 1em; text-align: center; vertical-align: top\"> Fn Auto suggestions are<br>not Showing While typing ...</td>\n",
       "        <td style=\"padding-left: 1em; padding-right: 1em; text-align: center; vertical-align: top\">{'shopping': 1, 'auto':<br>2, 'standalone': 2, ...</td>\n",
       "        <td style=\"padding-left: 1em; padding-right: 1em; text-align: center; vertical-align: top\">4</td>\n",
       "    </tr>\n",
       "    <tr>\n",
       "        <td style=\"padding-left: 1em; padding-right: 1em; text-align: center; vertical-align: top\">[Fn]Unable to display<br>address added for the ...</td>\n",
       "        <td style=\"padding-left: 1em; padding-right: 1em; text-align: center; vertical-align: top\"> Fn Unable to display<br>address added for the ...</td>\n",
       "        <td style=\"padding-left: 1em; padding-right: 1em; text-align: center; vertical-align: top\">{'acc': 1, 'untill': 1,<br>'added': 1, 'unable': 1, ...</td>\n",
       "        <td style=\"padding-left: 1em; padding-right: 1em; text-align: center; vertical-align: top\">3</td>\n",
       "    </tr>\n",
       "    <tr>\n",
       "        <td style=\"padding-left: 1em; padding-right: 1em; text-align: center; vertical-align: top\">[Fn]App is crashed after<br>selecting undo for the ...</td>\n",
       "        <td style=\"padding-left: 1em; padding-right: 1em; text-align: center; vertical-align: top\"> Fn App is crashed after<br>selecting undo for the ...</td>\n",
       "        <td style=\"padding-left: 1em; padding-right: 1em; text-align: center; vertical-align: top\">{'crashed': 2, 'deleted':<br>1, 'selecting': 1, 'a ...</td>\n",
       "        <td style=\"padding-left: 1em; padding-right: 1em; text-align: center; vertical-align: top\">3</td>\n",
       "    </tr>\n",
       "    <tr>\n",
       "        <td style=\"padding-left: 1em; padding-right: 1em; text-align: center; vertical-align: top\">[Fn][Error at Shopping in<br>zip-code  and not ...</td>\n",
       "        <td style=\"padding-left: 1em; padding-right: 1em; text-align: center; vertical-align: top\"> Fn Error at Shopping in<br>zip code and not ente ...</td>\n",
       "        <td style=\"padding-left: 1em; padding-right: 1em; text-align: center; vertical-align: top\">{'code': 2, 'shopping':<br>1, 'entering': 1, 'zip': ...</td>\n",
       "        <td style=\"padding-left: 1em; padding-right: 1em; text-align: center; vertical-align: top\">4</td>\n",
       "    </tr>\n",
       "    <tr>\n",
       "        <td style=\"padding-left: 1em; padding-right: 1em; text-align: center; vertical-align: top\">[Fn] App able to take<br>invalid zipcode [Zone ...</td>\n",
       "        <td style=\"padding-left: 1em; padding-right: 1em; text-align: center; vertical-align: top\"> Fn App able to take<br>invalid zipcode Zone ...</td>\n",
       "        <td style=\"padding-left: 1em; padding-right: 1em; text-align: center; vertical-align: top\">{'redirect': 1, 'picker':<br>1, 'code': 1, 'takes' ...</td>\n",
       "        <td style=\"padding-left: 1em; padding-right: 1em; text-align: center; vertical-align: top\">5</td>\n",
       "    </tr>\n",
       "    <tr>\n",
       "        <td style=\"padding-left: 1em; padding-right: 1em; text-align: center; vertical-align: top\">FUN]Debug warning message<br>is diplayed while adding ...</td>\n",
       "        <td style=\"padding-left: 1em; padding-right: 1em; text-align: center; vertical-align: top\">FUN Debug warning message<br>is diplayed while adding ...</td>\n",
       "        <td style=\"padding-left: 1em; padding-right: 1em; text-align: center; vertical-align: top\">{'adding': 1, 'form': 1,<br>'debug': 2, 'displayed': ...</td>\n",
       "        <td style=\"padding-left: 1em; padding-right: 1em; text-align: center; vertical-align: top\">2</td>\n",
       "    </tr>\n",
       "    <tr>\n",
       "        <td style=\"padding-left: 1em; padding-right: 1em; text-align: center; vertical-align: top\">[Tn][AssertnotNull error<br>when tapped on Join Now ...</td>\n",
       "        <td style=\"padding-left: 1em; padding-right: 1em; text-align: center; vertical-align: top\"> Tn AssertnotNull error<br>when tapped on Join Now ...</td>\n",
       "        <td style=\"padding-left: 1em; padding-right: 1em; text-align: center; vertical-align: top\">{'tn': 1, 'costco': 1,<br>'clicked': 1, 'progra ...</td>\n",
       "        <td style=\"padding-left: 1em; padding-right: 1em; text-align: center; vertical-align: top\">2</td>\n",
       "    </tr>\n",
       "    <tr>\n",
       "        <td style=\"padding-left: 1em; padding-right: 1em; text-align: center; vertical-align: top\">[Fn] Cart &amp; Checkout pop<br>up is not seen, unless ...</td>\n",
       "        <td style=\"padding-left: 1em; padding-right: 1em; text-align: center; vertical-align: top\"> Fn Cart Checkout pop up<br>is not seen unless user ...</td>\n",
       "        <td style=\"padding-left: 1em; padding-right: 1em; text-align: center; vertical-align: top\">{'bar': 1, 'scrolls': 2,<br>'checkout': 2, 'mac': 1, ...</td>\n",
       "        <td style=\"padding-left: 1em; padding-right: 1em; text-align: center; vertical-align: top\">7</td>\n",
       "    </tr>\n",
       "    <tr>\n",
       "        <td style=\"padding-left: 1em; padding-right: 1em; text-align: center; vertical-align: top\">[Fn][3dot menu missing<br>for a list that is ...</td>\n",
       "        <td style=\"padding-left: 1em; padding-right: 1em; text-align: center; vertical-align: top\"> Fn 3dot menu missing for<br>a list that is deleted ...</td>\n",
       "        <td style=\"padding-left: 1em; padding-right: 1em; text-align: center; vertical-align: top\">{'missing': 2, 'deleted':<br>1, 'menu': 2, 'list': 2, ...</td>\n",
       "        <td style=\"padding-left: 1em; padding-right: 1em; text-align: center; vertical-align: top\">0</td>\n",
       "    </tr>\n",
       "</table>\n",
       "<table frame=\"box\" rules=\"cols\">\n",
       "    <tr>\n",
       "        <th style=\"padding-left: 1em; padding-right: 1em; text-align: center\">topic_probabilities</th>\n",
       "        <th style=\"padding-left: 1em; padding-right: 1em; text-align: center\">topic_probability</th>\n",
       "    </tr>\n",
       "    <tr>\n",
       "        <td style=\"padding-left: 1em; padding-right: 1em; text-align: center; vertical-align: top\">[0.16393442623,<br>0.0983606557377, ...</td>\n",
       "        <td style=\"padding-left: 1em; padding-right: 1em; text-align: center; vertical-align: top\">0.16393442623</td>\n",
       "    </tr>\n",
       "    <tr>\n",
       "        <td style=\"padding-left: 1em; padding-right: 1em; text-align: center; vertical-align: top\">[0.147058823529,<br>0.147058823529, ...</td>\n",
       "        <td style=\"padding-left: 1em; padding-right: 1em; text-align: center; vertical-align: top\">0.147058823529</td>\n",
       "    </tr>\n",
       "    <tr>\n",
       "        <td style=\"padding-left: 1em; padding-right: 1em; text-align: center; vertical-align: top\">[0.0972222222222,<br>0.0972222222222, ...</td>\n",
       "        <td style=\"padding-left: 1em; padding-right: 1em; text-align: center; vertical-align: top\">0.180555555556</td>\n",
       "    </tr>\n",
       "    <tr>\n",
       "        <td style=\"padding-left: 1em; padding-right: 1em; text-align: center; vertical-align: top\">[0.114754098361,<br>0.0819672131148, ...</td>\n",
       "        <td style=\"padding-left: 1em; padding-right: 1em; text-align: center; vertical-align: top\">0.16393442623</td>\n",
       "    </tr>\n",
       "    <tr>\n",
       "        <td style=\"padding-left: 1em; padding-right: 1em; text-align: center; vertical-align: top\">[0.10447761194,<br>0.0746268656716, ...</td>\n",
       "        <td style=\"padding-left: 1em; padding-right: 1em; text-align: center; vertical-align: top\">0.194029850746</td>\n",
       "    </tr>\n",
       "    <tr>\n",
       "        <td style=\"padding-left: 1em; padding-right: 1em; text-align: center; vertical-align: top\">[0.0757575757576,<br>0.0757575757576, ...</td>\n",
       "        <td style=\"padding-left: 1em; padding-right: 1em; text-align: center; vertical-align: top\">0.151515151515</td>\n",
       "    </tr>\n",
       "    <tr>\n",
       "        <td style=\"padding-left: 1em; padding-right: 1em; text-align: center; vertical-align: top\">[0.10447761194,<br>0.089552238806, ...</td>\n",
       "        <td style=\"padding-left: 1em; padding-right: 1em; text-align: center; vertical-align: top\">0.208955223881</td>\n",
       "    </tr>\n",
       "    <tr>\n",
       "        <td style=\"padding-left: 1em; padding-right: 1em; text-align: center; vertical-align: top\">[0.0684931506849,<br>0.0821917808219, ...</td>\n",
       "        <td style=\"padding-left: 1em; padding-right: 1em; text-align: center; vertical-align: top\">0.205479452055</td>\n",
       "    </tr>\n",
       "    <tr>\n",
       "        <td style=\"padding-left: 1em; padding-right: 1em; text-align: center; vertical-align: top\">[0.106060606061,<br>0.0909090909091, ...</td>\n",
       "        <td style=\"padding-left: 1em; padding-right: 1em; text-align: center; vertical-align: top\">0.136363636364</td>\n",
       "    </tr>\n",
       "    <tr>\n",
       "        <td style=\"padding-left: 1em; padding-right: 1em; text-align: center; vertical-align: top\">[0.125, 0.09375,<br>0.078125, 0.140625, ...</td>\n",
       "        <td style=\"padding-left: 1em; padding-right: 1em; text-align: center; vertical-align: top\">0.140625</td>\n",
       "    </tr>\n",
       "</table>\n",
       "[10 rows x 15 columns]<br/>\n",
       "</div>"
      ]
     },
     "metadata": {},
     "output_type": "execute_result"
    }
   ],
   "source": [
    "this_month_reviews = reviews[reviews['createDate'] > 1496275200] # 2017.06.01\n",
    "this_month_reviews.head()"
   ]
  },
  {
   "cell_type": "code",
   "execution_count": 144,
   "metadata": {},
   "outputs": [
    {
     "metadata": {},
     "text": []
    }
   ],
   "source": [
    "this_month_reviews['topic'].show(view='Categorical')"
   ]
  },
  {
   "cell_type": "code",
   "execution_count": 145,
   "metadata": {},
   "outputs": [
    {
     "name": "stdout",
     "output_type": "stream",
     "text": [
      "Topic(0 | 0.208333333333 | somewhat valuable |169077 |2017-06-09 05:11:49): ['list', 'shopping', 'item', 'cart', 'added']\n",
      "[Fn]Added items to shopping list are not showing for guest user account[shopping list][iOS] 1.Not able to see added items to shopping list after adding items (or) products to shopping list.\n",
      "\n",
      "Topic(0 | 0.203125 | somewhat valuable |241956 |2017-06-09 02:00:17): ['list', 'shopping', 'item', 'cart', 'added']\n",
      "[Fn]Eventhough item is removed from list it is available in shop your list page[android] even though item is deleted it is available in shop your list pge\n",
      "\n",
      "Topic(0 | 0.16393442623 | somewhat valuable |297110 |2017-06-01 01:04:54): ['list', 'shopping', 'item', 'cart', 'added']\n",
      "[fn][Complete shopping list name is not displaying in SL header][Shopping List][Android] \"S...\" is displaying\n",
      "\n",
      "Topic(1 | 0.243902439024 | somewhat valuable |297150 |2017-06-08 03:51:46): ['store', 'showing', 'products', 'category', '1']\n",
      "[GUI][Most of the product images are missing in the category of Eye glasses][IOS] No image is displaying for products , 1.Wink by ICU Eyewear Oval Zebra Stripe, 2. Wink Reader Floral+2.00, 3. Wink Fashion Reading Glass,2.50, 4. Wink Metal Reading Glass,2.00, 5. Wink Metal Reading Glass,1.25, 6. Wink Fashion Reading Glass,1.75, 7. Wink Fashion Reading Glass,3.00,          8. DDE Reader Slvr Aviator +2.50, 9. DDE Reader Slvr Aviator +3.00\n",
      "\n",
      "Topic(1 | 0.126984126984 | somewhat valuable |144476 |2017-06-09 04:51:52): ['store', 'showing', 'products', 'category', '1']\n",
      "[Fn]Store logos are missing when we tap on more button[Stores][Web] Store logos are missing when we tap on more button\n",
      "\n",
      "Topic(2 | 0.226666666667 | somewhat valuable |156925 |2017-06-09 01:44:42): ['displayed', 'error', 'message', 'android', 'items']\n",
      "[Fn][Debug warning when item added to cart after search made fro the first time][PDP][Adnroid] Debug warning error message displayed  Note:This happens only for the first time If app killed and steps repeated, error occurs again\n",
      "\n",
      "Topic(2 | 0.208955223881 | somewhat valuable |242313 |2017-06-06 01:02:55): ['displayed', 'error', 'message', 'android', 'items']\n",
      "FUN]Debug warning message is diplayed while adding item to cart form Quick reorder[Android Debug warning Error message is displayed\n",
      "\n",
      "Topic(2 | 0.205479452055 | somewhat valuable |156925 |2017-06-06 01:18:03): ['displayed', 'error', 'message', 'android', 'items']\n",
      "[Tn][AssertnotNull error when tapped on Join Now for Costco for the first time][PDP][Android] Debug warning: assertnotNull error displayed Need to click Ok twice to close the error message  Note: This also happens when Join Now clicked from Loyalty Programs\n",
      "\n",
      "Topic(3 | 0.242424242424 | very valuable |241966 |2017-06-08 01:25:02): ['app', 'address', 'android', 'crashes', 'mode']\n",
      "[Fn][App crashed when removing address from address book][Settings page][Android] App crashed when removing address from address book\n",
      "\n",
      "Topic(3 | 0.231884057971 | somewhat valuable |247038 |2017-06-07 02:18:13): ['app', 'address', 'android', 'crashes', 'mode']\n",
      "[FN]App crashes after tapping on \" remove\" for  address added in \"Landscape\" mode[Android] App crashes immediately after tapping  on \"remove\"  for the addresses added in Landscape mode\n",
      "\n",
      "Topic(3 | 0.188405797101 | somewhat valuable |52901 |2017-06-09 01:25:05): ['app', 'address', 'android', 'crashes', 'mode']\n",
      "[Fn] Address Book with 'Add a new Address' option displayed for guest user[Settings][iOS] Address Book with 'Add a new Address' option displayed for guest user\n",
      "\n",
      "Topic(4 | 0.194029850746 | somewhat valuable |192264 |2017-06-02 01:37:29): ['fn', 'checkout', 'unable', 'items', 'account']\n",
      "[Fn][Error at Shopping in zip-code  and not entering anything on Zip-code ][ZonePicker][Android] Gives error like ' Something's not right. Please try again in a few minutes, or reach out through g.co/ExpressHelp (119 ) ' at the bottom of the screen\n",
      "\n",
      "Topic(4 | 0.147058823529 | somewhat valuable |241963 |2017-06-01 02:00:39): ['fn', 'checkout', 'unable', 'items', 'account']\n",
      "[Fn] Auto suggestions are not Showing While typing the text [Standalone SL][Mac] Auto suggestion text is not loaded while typing the text in standalone shopping list\n",
      "\n",
      "Topic(4 | 0.134328358209 | somewhat valuable |241963 |2017-06-09 01:43:00): ['fn', 'checkout', 'unable', 'items', 'account']\n",
      "[Fn]Invalid promo code meessage is showing while changing the address  [Checkout][Android] Invalid promo code message is showing while changing the address\n",
      "\n",
      "Topic(5 | 0.151515151515 | somewhat valuable |192264 |2017-06-02 02:40:11): ['page', 'fn', 'button', 'web', 'home']\n",
      "[Fn] App able to take invalid zipcode [Zone Picker][Android] App successfully able to redirect to home page and it also takes the invalid zip-code\n",
      "\n",
      "Topic(6 | 0.166666666667 | somewhat valuable |156925 |2017-06-08 02:52:40): ['page', 'fn', 'order', 'orders', 'button']\n",
      "[Fn][Reason dropdown active & non-functional after request submitted][Returns][iOS] Dropdown active but is not functional i.e. user is not able to select any options from dropdown\n",
      "\n",
      "Topic(7 | 0.161764705882 | very valuable |132466 |2017-06-06 03:27:13): ['fn', 'membership', 'web', 'user', 'card']\n",
      "[Fn][Phone number not validating when editing/adding][Address Book][Android] Address saved without any error/message if entering symbol or alphabet for phone number\n",
      "\n",
      "Topic(7 | 0.136363636364 | very valuable |173248 |2017-06-06 01:44:08): ['fn', 'membership', 'web', 'user', 'card']\n",
      "[Fn] Cart & Checkout pop up is not seen, unless user scrolls the page [Navigation Bar][Mac] Cart & Checkout pop up is not seen unless user scrolls the page\n",
      "\n",
      "Topic(7 | 0.123076923077 | somewhat valuable |132466 |2017-06-06 03:59:34): ['fn', 'membership', 'web', 'user', 'card']\n",
      "[Fn] Inavalid promo code message not showing if enter any symbol[Checkout][Android] No messageshows if entered any symbol to promo code\n",
      "\n",
      "Topic(9 | 0.25 | somewhat valuable |297145 |2017-06-08 03:20:45): ['product', 'image', 'missing', 'pdp', 'web']\n",
      "[GUI][Product image is not seen in PDP in the category of Lotion Dispenser][Web] Product image is missing in PDP for the Product ,Danco A0089317 16 oz Chrome So\n",
      "\n",
      "Topic(9 | 0.225806451613 | somewhat valuable |278100 |2017-06-06 03:32:51): ['product', 'image', 'missing', 'pdp', 'web']\n",
      "[GUI][In Hassett Hardware Store, Image missing in kitchen appliances][web] Product images missing\n",
      "\n",
      "Topic(9 | 0.177419354839 | somewhat valuable |278100 |2017-06-08 03:13:59): ['product', 'image', 'missing', 'pdp', 'web']\n",
      "[GUI][In Logan Hardware >> Wrenches category, Products image missing][web] Products images missing\n",
      "\n"
     ]
    }
   ],
   "source": [
    "# for each topic, print 3 top reviews\n",
    "topic_count = {i: 0 for i in range(len(topics))}\n",
    "top_reviews = []\n",
    "for r in reviews[reviews['createDate'] > 1496275200].sort('topic_probability', ascending=False):\n",
    "    tp = r['topic']\n",
    "    if topic_count[tp] < 3:\n",
    "        top_reviews.append((r['topic'], r))\n",
    "        topic_count[tp] += 1\n",
    "        \n",
    "top_reviews = sorted(top_reviews, key=lambda x:int(x[0]))\n",
    "for tp, r in top_reviews:\n",
    "    print 'Topic(%s | %s | %s |%s |%s): %s' % (tp, r['topic_probability'], r['fixWorthinessLevel'], r['testerId'], r['createDate'], topics[tp]['words'])\n",
    "    print r['text']\n",
    "    print"
   ]
  },
  {
   "cell_type": "markdown",
   "metadata": {},
   "source": [
    "# Applications\n",
    "1. DX feedback ALX => to customer\n",
    "2. DX journey with focus\n",
    "3. Sales tool"
   ]
  },
  {
   "cell_type": "code",
   "execution_count": null,
   "metadata": {},
   "outputs": [],
   "source": [
    ""
   ]
  },
  {
   "cell_type": "code",
   "execution_count": null,
   "metadata": {},
   "outputs": [],
   "source": [
    ""
   ]
  },
  {
   "cell_type": "code",
   "execution_count": null,
   "metadata": {},
   "outputs": [],
   "source": [
    ""
   ]
  },
  {
   "cell_type": "code",
   "execution_count": null,
   "metadata": {},
   "outputs": [],
   "source": [
    ""
   ]
  }
 ],
 "metadata": {
  "kernelspec": {
   "display_name": "Python 2",
   "language": "python",
   "name": "python2"
  },
  "language_info": {
   "codemirror_mode": {
    "name": "ipython",
    "version": 2
   },
   "file_extension": ".py",
   "mimetype": "text/x-python",
   "name": "python",
   "nbconvert_exporter": "python",
   "pygments_lexer": "ipython2",
   "version": "2.7.11"
  }
 },
 "nbformat": 4,
 "nbformat_minor": 0
}
